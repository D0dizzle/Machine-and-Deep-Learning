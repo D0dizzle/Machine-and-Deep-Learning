{
 "cells": [
  {
   "attachments": {},
   "cell_type": "markdown",
   "metadata": {},
   "source": [
    "**Convolutional Neural Network (CNN) for Image Classification**\n",
    "\n",
    "Packages for dealing with images:\n",
    "1. [OpenCV](https://pypi.org/project/opencv-python/)\n",
    "2. [Matplotlib](https://matplotlib.org/)\n",
    "3. [Pillow](https://pillow.readthedocs.io/en/stable/)\n",
    "3. [scikit-image](https://scikit-image.org/)\n",
    "4. [Tensorflow](https://www.tensorflow.org/)"
   ]
  },
  {
   "cell_type": "code",
   "execution_count": 1,
   "metadata": {},
   "outputs": [],
   "source": [
    "import os\n",
    "import glob\n",
    "import numpy as np\n",
    "from PIL import Image\n",
    "import matplotlib.pyplot as plt\n",
    "from sklearn.preprocessing import OneHotEncoder\n",
    "import tensorflow as tf\n",
    "from tensorflow.keras.models import Model\n",
    "from tensorflow.keras.layers import Input, Dense, Conv2D, MaxPooling2D, Dropout, Flatten"
   ]
  },
  {
   "cell_type": "markdown",
   "metadata": {},
   "source": [
    "## Load images"
   ]
  },
  {
   "cell_type": "code",
   "execution_count": null,
   "metadata": {},
   "outputs": [
    {
     "ename": "FileNotFoundError",
     "evalue": "[Errno 2] No such file or directory: './Machine-and-Deep-Learning/Fotos'",
     "output_type": "error",
     "traceback": [
      "\u001b[0;31m---------------------------------------------------------------------------\u001b[0m",
      "\u001b[0;31mFileNotFoundError\u001b[0m                         Traceback (most recent call last)",
      "Cell \u001b[0;32mIn[11], line 64\u001b[0m\n\u001b[1;32m     62\u001b[0m folder \u001b[38;5;241m=\u001b[39m \u001b[38;5;124m'\u001b[39m\u001b[38;5;124m./Machine-and-Deep-Learning/Fotos\u001b[39m\u001b[38;5;124m'\u001b[39m\n\u001b[1;32m     63\u001b[0m \u001b[38;5;66;03m#image_names, categories = read_image_names(filepath)\u001b[39;00m\n\u001b[0;32m---> 64\u001b[0m categories, image_names, labels \u001b[38;5;241m=\u001b[39m get_filenames_labels(folder)\n\u001b[1;32m     65\u001b[0m \u001b[38;5;28mprint\u001b[39m(image_names)\n\u001b[1;32m     66\u001b[0m \u001b[38;5;28mprint\u001b[39m(labels)\n",
      "Cell \u001b[0;32mIn[11], line 36\u001b[0m, in \u001b[0;36mget_filenames_labels\u001b[0;34m(folder)\u001b[0m\n\u001b[1;32m     19\u001b[0m \u001b[38;5;28;01mdef\u001b[39;00m \u001b[38;5;21mget_filenames_labels\u001b[39m(folder):\n\u001b[1;32m     20\u001b[0m     \u001b[38;5;66;03m#Tool-Tip: immer machen, best practice! Für Notebook machen?! Formatierung so machen, tiptop\u001b[39;00m\n\u001b[1;32m     21\u001b[0m \u001b[38;5;250m    \u001b[39m\u001b[38;5;124;03m''' Detects categories, filenames and labels of images\u001b[39;00m\n\u001b[1;32m     22\u001b[0m \u001b[38;5;124;03m        Arguments\u001b[39;00m\n\u001b[1;32m     23\u001b[0m \u001b[38;5;124;03m        ---------\u001b[39;00m\n\u001b[0;32m   (...)\u001b[0m\n\u001b[1;32m     34\u001b[0m \u001b[38;5;124;03m            A list of list of the categories corresponding to filenames\u001b[39;00m\n\u001b[1;32m     35\u001b[0m \u001b[38;5;124;03m    '''\u001b[39;00m\n\u001b[0;32m---> 36\u001b[0m     categories \u001b[38;5;241m=\u001b[39m [f\u001b[38;5;241m.\u001b[39mname \u001b[38;5;28;01mfor\u001b[39;00m f \u001b[38;5;129;01min\u001b[39;00m os\u001b[38;5;241m.\u001b[39mscandir(folder) \u001b[38;5;28;01mif\u001b[39;00m f\u001b[38;5;241m.\u001b[39mis_dir()]\n\u001b[1;32m     37\u001b[0m     filenames \u001b[38;5;241m=\u001b[39m []\n\u001b[1;32m     38\u001b[0m     labels \u001b[38;5;241m=\u001b[39m []\n",
      "\u001b[0;31mFileNotFoundError\u001b[0m: [Errno 2] No such file or directory: './Machine-and-Deep-Learning/Fotos'"
     ]
    }
   ],
   "source": [
    "def get_filenames(subfolder):\n",
    "    imagefiles = [os.path.join(subfolder, filename) for filename in os.listdir(subfolder) if os.path.isdir(subfolder)] ## wo ist der Fehler?\n",
    "    #imagefiles = [f for f in glob.glob(filepath+'*.jpg')]\n",
    "    return imagefiles    \n",
    "\"\"\"\n",
    "def read_image_names(filepath):\n",
    "    #imagefiles = [file for _, _, file in os.walk(filepath)]\n",
    "    imagefiles = []\n",
    "    categories = []\n",
    "    for dirpath, dirnames, filenames in os.walk(filepath):\n",
    "        for filename in filenames:\n",
    "            full_path = os.path.join(dirpath, filename)  # Kompletter Pfad der Datei\n",
    "            imagefiles.append(full_path)\n",
    "        for dirname in dirnames: \n",
    "            categories.append(dirname)\n",
    "    print(imagefiles)\n",
    "    return imagefiles, categories\"\"\"\n",
    "\n",
    "def get_filenames_labels(folder):\n",
    "    #Tool-Tip: immer machen, best practice! Für Notebook machen?! Formatierung so machen, tiptop\n",
    "    ''' Detects categories, filenames and labels of images\n",
    "        Arguments\n",
    "        ---------\n",
    "        folder: string\n",
    "            The folder where the images reside in subfolders. Subfolders correspond to the categories.\n",
    "\n",
    "        Returns\n",
    "        -------\n",
    "        categories : list\n",
    "            A list with all categories\n",
    "        filenames: list\n",
    "            A list of list of filenames of the images\n",
    "        labels: list\n",
    "            A list of list of the categories corresponding to filenames\n",
    "    '''\n",
    "    categories = [f.name for f in os.scandir(folder) if f.is_dir()]\n",
    "    filenames = []\n",
    "    labels = []\n",
    "    for category in categories: \n",
    "        subfolder = os.path.join(folder, category)\n",
    "        fnames = get_filenames(subfolder)\n",
    "        filenames.append(fnames)\n",
    "        labels.append([category] * len(fnames))\n",
    "\n",
    "    return categories, flatten_lst(filenames), flatten_lst(labels)\n",
    "\n",
    "# Label list\n",
    "def flatten_lst(lst):\n",
    "    return [item for items in lst for item in items] # items = innere Liste in der äußeren Liste item = Element in innerer Liste\n",
    "\n",
    "\n",
    "def read_images(filenames, height=None, width=None):\n",
    "    images = [Image.open(filename) for filename in filenames]\n",
    "    if (not height is None) and (not width is None):\n",
    "        images = [img.resize((width, height)) for img in images]\n",
    "    return images\n",
    "\n",
    "def images_to_array(images):\n",
    "    return np.asarray([np.asarray(img) for img in images])\n",
    "\n",
    "# Get file names\n",
    "folder = './Fotos'\n",
    "#image_names, categories = read_image_names(filepath)\n",
    "categories, image_names, labels = get_filenames_labels(folder)\n",
    "print(image_names)\n",
    "print(labels)\n",
    "print(categories)\n",
    "# Load images\n",
    "input_shape = {\n",
    "    \"height\": 200,\n",
    "    \"width\": 200,\n",
    "    \"channels\": 3\n",
    "}\n",
    "images = read_images(image_names, height=input_shape[\"height\"], width=input_shape[\"width\"])\n",
    "# Convert images to array\n",
    "aimages = images_to_array(images)\n",
    "print(f'Shape of images array: {aimages.shape}')\n",
    "# Plot images array\n",
    "#display(Image.fromarray(aimages[11]))\n",
    "fig = plt.figure(figsize=(8, 8))\n",
    "rows, columns = 3, 5\n",
    "for i in range(aimages.shape[0]):\n",
    "    fig.add_subplot(rows, columns, i+1)\n",
    "    plt.imshow(aimages[i, ...])\n",
    "plt.show()"
   ]
  },
  {
   "cell_type": "code",
   "execution_count": 7,
   "metadata": {},
   "outputs": [
    {
     "name": "stdout",
     "output_type": "stream",
     "text": [
      "[[10 11 12]\n",
      " [ 7  8  9]\n",
      " [ 4  5  6]\n",
      " [ 1  2  3]]\n",
      "30\n"
     ]
    }
   ],
   "source": [
    "#Data Augmentation\n",
    "\n",
    "a = np.arange(1,13).reshape(4, 3)\n",
    "a = np.flipud(a)\n",
    "print(a)\n",
    "#concatenate für augmentierte und nicht-augmentierte Bilder\n",
    "flipped_images = []\n",
    "rotated_images = []\n",
    "flip_and_rotated_images = []\n",
    "\n",
    "def augmentImages():\n",
    "    for image in images:\n",
    "        flipped_images.append(np.flipud(image))\n",
    "        rotated_images.append(np.rot90(image))\n",
    "    combined_images = flipped_images + rotated_images\n",
    "    print(len(combined_images))\n",
    "    return combined_images\n",
    "\n",
    "def showImages(image_list):\n",
    "    for image in image_list:\n",
    "        plt.imshow(image)\n",
    "        plt.show()\n",
    "combined_images = images_to_array(augmentImages())\n",
    "#showImages(combined_images)\n",
    "\n"
   ]
  },
  {
   "attachments": {},
   "cell_type": "markdown",
   "metadata": {},
   "source": [
    "## Create Labels"
   ]
  },
  {
   "cell_type": "code",
   "execution_count": 8,
   "metadata": {},
   "outputs": [
    {
     "name": "stdout",
     "output_type": "stream",
     "text": [
      "['Meerschweinchen', 'Meerschweinchen', 'Meerschweinchen', 'Meerschweinchen', 'Meerschweinchen', 'Eichhörnchen', 'Eichhörnchen', 'Eichhörnchen', 'Eichhörnchen', 'Eichhörnchen', 'Maus', 'Maus', 'Maus', 'Maus', 'Maus']\n"
     ]
    },
    {
     "data": {
      "text/plain": [
       "array([[1., 0., 0.],\n",
       "       [1., 0., 0.],\n",
       "       [1., 0., 0.],\n",
       "       [1., 0., 0.],\n",
       "       [1., 0., 0.],\n",
       "       [0., 1., 0.],\n",
       "       [0., 1., 0.],\n",
       "       [0., 1., 0.],\n",
       "       [0., 1., 0.],\n",
       "       [0., 1., 0.],\n",
       "       [0., 0., 1.],\n",
       "       [0., 0., 1.],\n",
       "       [0., 0., 1.],\n",
       "       [0., 0., 1.],\n",
       "       [0., 0., 1.]])"
      ]
     },
     "execution_count": 8,
     "metadata": {},
     "output_type": "execute_result"
    }
   ],
   "source": [
    "# Label list\n",
    "def flatten_lst(lst):\n",
    "    return [item for items in lst for item in items] # items = innere Liste in der äußeren Liste item = Element in innerer Liste\n",
    "\n",
    "#categories = ['Eichhörnchen', 'Maus', 'Meerschweinchen']\n",
    "#labels = flatten_lst([[label] * 5 for label in categories])\n",
    "print(labels)\n",
    "# One-hot encoding of the labels\n",
    "encoder = OneHotEncoder(categories=[categories], sparse_output=False)\n",
    "y = encoder.fit_transform(np.array(labels).reshape(-1,1))\n",
    "y"
   ]
  },
  {
   "cell_type": "markdown",
   "metadata": {},
   "source": [
    "## K-Fold Cross Validation"
   ]
  },
  {
   "cell_type": "code",
   "execution_count": null,
   "metadata": {},
   "outputs": [],
   "source": [
    "#### Array mit Datensätze in k-Folds einteilen ####\n",
    "# erst später\n",
    "\n",
    "#### Array je nach Anzahl der Epochen trainieren ####\n",
    "epoch = 15\n"
   ]
  },
  {
   "attachments": {},
   "cell_type": "markdown",
   "metadata": {},
   "source": [
    "## Build model"
   ]
  },
  {
   "cell_type": "code",
   "execution_count": 48,
   "metadata": {},
   "outputs": [
    {
     "name": "stdout",
     "output_type": "stream",
     "text": [
      "Epoch 1/15\n",
      "\u001b[1m15/15\u001b[0m \u001b[32m━━━━━━━━━━━━━━━━━━━━\u001b[0m\u001b[37m\u001b[0m \u001b[1m9s\u001b[0m 447ms/step - accuracy: 0.4302 - loss: 3509.7495\n",
      "Epoch 2/15\n",
      "\u001b[1m15/15\u001b[0m \u001b[32m━━━━━━━━━━━━━━━━━━━━\u001b[0m\u001b[37m\u001b[0m \u001b[1m7s\u001b[0m 447ms/step - accuracy: 0.4820 - loss: 43.1742\n",
      "Epoch 3/15\n",
      "\u001b[1m15/15\u001b[0m \u001b[32m━━━━━━━━━━━━━━━━━━━━\u001b[0m\u001b[37m\u001b[0m \u001b[1m6s\u001b[0m 414ms/step - accuracy: 0.7548 - loss: 1.2297\n",
      "Epoch 4/15\n",
      "\u001b[1m15/15\u001b[0m \u001b[32m━━━━━━━━━━━━━━━━━━━━\u001b[0m\u001b[37m\u001b[0m \u001b[1m6s\u001b[0m 415ms/step - accuracy: 0.7914 - loss: 0.5304\n",
      "Epoch 5/15\n",
      "\u001b[1m15/15\u001b[0m \u001b[32m━━━━━━━━━━━━━━━━━━━━\u001b[0m\u001b[37m\u001b[0m \u001b[1m6s\u001b[0m 428ms/step - accuracy: 0.9525 - loss: 0.5095\n",
      "Epoch 6/15\n",
      "\u001b[1m15/15\u001b[0m \u001b[32m━━━━━━━━━━━━━━━━━━━━\u001b[0m\u001b[37m\u001b[0m \u001b[1m7s\u001b[0m 445ms/step - accuracy: 0.6433 - loss: 38.9040\n",
      "Epoch 7/15\n",
      "\u001b[1m15/15\u001b[0m \u001b[32m━━━━━━━━━━━━━━━━━━━━\u001b[0m\u001b[37m\u001b[0m \u001b[1m6s\u001b[0m 426ms/step - accuracy: 0.8837 - loss: 0.2943\n",
      "Epoch 8/15\n",
      "\u001b[1m15/15\u001b[0m \u001b[32m━━━━━━━━━━━━━━━━━━━━\u001b[0m\u001b[37m\u001b[0m \u001b[1m6s\u001b[0m 425ms/step - accuracy: 0.8342 - loss: 0.5202\n",
      "Epoch 9/15\n",
      "\u001b[1m15/15\u001b[0m \u001b[32m━━━━━━━━━━━━━━━━━━━━\u001b[0m\u001b[37m\u001b[0m \u001b[1m7s\u001b[0m 458ms/step - accuracy: 0.8509 - loss: 0.2535\n",
      "Epoch 10/15\n",
      "\u001b[1m15/15\u001b[0m \u001b[32m━━━━━━━━━━━━━━━━━━━━\u001b[0m\u001b[37m\u001b[0m \u001b[1m7s\u001b[0m 436ms/step - accuracy: 0.7515 - loss: 2.6305\n",
      "Epoch 11/15\n",
      "\u001b[1m15/15\u001b[0m \u001b[32m━━━━━━━━━━━━━━━━━━━━\u001b[0m\u001b[37m\u001b[0m \u001b[1m7s\u001b[0m 438ms/step - accuracy: 0.9644 - loss: 0.6098\n",
      "Epoch 12/15\n",
      "\u001b[1m15/15\u001b[0m \u001b[32m━━━━━━━━━━━━━━━━━━━━\u001b[0m\u001b[37m\u001b[0m \u001b[1m6s\u001b[0m 419ms/step - accuracy: 0.7222 - loss: 10.2634\n",
      "Epoch 13/15\n",
      "\u001b[1m15/15\u001b[0m \u001b[32m━━━━━━━━━━━━━━━━━━━━\u001b[0m\u001b[37m\u001b[0m \u001b[1m6s\u001b[0m 418ms/step - accuracy: 0.7914 - loss: 2.2602\n",
      "Epoch 14/15\n",
      "\u001b[1m15/15\u001b[0m \u001b[32m━━━━━━━━━━━━━━━━━━━━\u001b[0m\u001b[37m\u001b[0m \u001b[1m6s\u001b[0m 422ms/step - accuracy: 0.9917 - loss: 0.0286  \n",
      "Epoch 15/15\n",
      "\u001b[1m15/15\u001b[0m \u001b[32m━━━━━━━━━━━━━━━━━━━━\u001b[0m\u001b[37m\u001b[0m \u001b[1m7s\u001b[0m 471ms/step - accuracy: 0.8104 - loss: 1.7609\n"
     ]
    }
   ],
   "source": [
    "# Hyperparameters\n",
    "epochs = 15\n",
    "batch_size = 32\n",
    "\n",
    "# CNN model\n",
    "inputs = Input(shape=(input_shape.values()))\n",
    "hidden = Conv2D(filters=32, kernel_size=(3,3), strides=(1,1), padding='valid', activation='relu')(inputs)\n",
    "hidden = Conv2D(filters=32, kernel_size=(3,3), strides=(1,1), padding='valid', activation='relu')(hidden)\n",
    "hidden = MaxPooling2D(pool_size=(2,2))(hidden)\n",
    "hidden = Dropout(rate=0.25)(hidden)\n",
    "hidden = Conv2D(filters=64, kernel_size=(3,3), strides=(1,1), padding='valid', activation='relu')(hidden)\n",
    "hidden = MaxPooling2D(pool_size=(2,2))(hidden)\n",
    "hidden = Dropout(rate=0.25)(hidden)\n",
    "hidden = Flatten()(hidden)\n",
    "hidden = Dense(units=256, activation='relu')(hidden)\n",
    "hidden = Dropout(rate=0.25)(hidden)\n",
    "output = Dense(units=y.shape[-1], activation='softmax')(hidden)\n",
    "cnn = Model(inputs=inputs, outputs=output, name='CNN_CBP_Class')\n",
    "\n",
    "# Configuration of the training process\n",
    "cnn.compile(loss='categorical_crossentropy', optimizer='rmsprop', metrics=['accuracy'])\n",
    "\n",
    "# Fit model\n",
    "history = cnn.fit(x=aimages, y=y, epochs=epochs, batch_size=1)"
   ]
  },
  {
   "attachments": {},
   "cell_type": "markdown",
   "metadata": {},
   "source": [
    "## Plot model learning curve"
   ]
  },
  {
   "cell_type": "code",
   "execution_count": 49,
   "metadata": {},
   "outputs": [
    {
     "data": {
      "image/png": "[encoded data removed]",
      "text/plain": [
       "<Figure size 640x480 with 1 Axes>"
      ]
     },
     "metadata": {},
     "output_type": "display_data"
    }
   ],
   "source": [
    "def minmax(a):\n",
    "    a = np.asarray(a)\n",
    "    a = (a - a.min()) / (a.max() - a.min())\n",
    "    return a\n",
    "\n",
    "plt.plot(range(1, epochs+1), minmax(history.history['loss']))\n",
    "plt.plot(range(1, epochs+1), minmax(history.history['accuracy']))\n",
    "plt.title('Model learning curves')\n",
    "plt.xlabel('epochs')\n",
    "plt.gca().legend(('loss', 'accuracy'))\n",
    "plt.show()"
   ]
  },
  {
   "cell_type": "code",
   "execution_count": null,
   "metadata": {},
   "outputs": [],
   "source": []
  },
  {
   "attachments": {},
   "cell_type": "markdown",
   "metadata": {},
   "source": [
    "## Predictions"
   ]
  },
  {
   "cell_type": "code",
   "execution_count": 50,
   "metadata": {},
   "outputs": [],
   "source": [
    "# Metric functions\n",
    "def accuracy(actuals, preds):\n",
    "    actuals, preds = np.asarray(actuals), np.asarray(preds)\n",
    "    return np.mean(np.ravel(actuals) == np.ravel(preds))"
   ]
  },
  {
   "cell_type": "code",
   "execution_count": 51,
   "metadata": {},
   "outputs": [
    {
     "name": "stdout",
     "output_type": "stream",
     "text": [
      "\u001b[1m1/1\u001b[0m \u001b[32m━━━━━━━━━━━━━━━━━━━━\u001b[0m\u001b[37m\u001b[0m \u001b[1m0s\u001b[0m 433ms/step\n",
      "Accuracy: 100.0%\n"
     ]
    }
   ],
   "source": [
    "yhat = cnn.predict(aimages)\n",
    "yhat = np.argmax(yhat, axis=1)\n",
    "yhat = np.asarray(categories)[yhat]\n",
    "\n",
    "print(f'Accuracy: {round(accuracy(labels, yhat) * 100, 2)}%')"
   ]
  },
  {
   "attachments": {},
   "cell_type": "markdown",
   "metadata": {},
   "source": [
    "## Transfer Learning\n",
    "\n",
    "Transfer learning is the reuse of an pre-trained neural network for similar, related tasks. An overview of pre-trained convolutional neural networks in Tensorflow can be found on https://www.tensorflow.org/api_docs/python/tf/keras/applications"
   ]
  },
  {
   "cell_type": "code",
   "execution_count": 10,
   "metadata": {},
   "outputs": [
    {
     "name": "stdout",
     "output_type": "stream",
     "text": [
      "Downloading data from https://storage.googleapis.com/tensorflow/keras-applications/vgg16/vgg16_weights_tf_dim_ordering_tf_kernels_notop.h5\n",
      "\u001b[1m58889256/58889256\u001b[0m \u001b[32m━━━━━━━━━━━━━━━━━━━━\u001b[0m\u001b[37m\u001b[0m \u001b[1m3s\u001b[0m 0us/step\n",
      "Epoch 1/60\n",
      "\u001b[1m1/1\u001b[0m \u001b[32m━━━━━━━━━━━━━━━━━━━━\u001b[0m\u001b[37m\u001b[0m \u001b[1m4s\u001b[0m 4s/step - accuracy: 0.2667 - loss: 19.4182\n",
      "Epoch 2/60\n",
      "\u001b[1m1/1\u001b[0m \u001b[32m━━━━━━━━━━━━━━━━━━━━\u001b[0m\u001b[37m\u001b[0m \u001b[1m3s\u001b[0m 3s/step - accuracy: 0.6667 - loss: 214.5664\n",
      "Epoch 3/60\n",
      "\u001b[1m1/1\u001b[0m \u001b[32m━━━━━━━━━━━━━━━━━━━━\u001b[0m\u001b[37m\u001b[0m \u001b[1m3s\u001b[0m 3s/step - accuracy: 0.7333 - loss: 74.7487\n",
      "Epoch 4/60\n",
      "\u001b[1m1/1\u001b[0m \u001b[32m━━━━━━━━━━━━━━━━━━━━\u001b[0m\u001b[37m\u001b[0m \u001b[1m3s\u001b[0m 3s/step - accuracy: 1.0000 - loss: 0.0000e+00\n",
      "Epoch 5/60\n",
      "\u001b[1m1/1\u001b[0m \u001b[32m━━━━━━━━━━━━━━━━━━━━\u001b[0m\u001b[37m\u001b[0m \u001b[1m2s\u001b[0m 2s/step - accuracy: 1.0000 - loss: 0.0000e+00\n",
      "Epoch 6/60\n",
      "\u001b[1m1/1\u001b[0m \u001b[32m━━━━━━━━━━━━━━━━━━━━\u001b[0m\u001b[37m\u001b[0m \u001b[1m3s\u001b[0m 3s/step - accuracy: 1.0000 - loss: 0.0000e+00\n",
      "Epoch 7/60\n",
      "\u001b[1m1/1\u001b[0m \u001b[32m━━━━━━━━━━━━━━━━━━━━\u001b[0m\u001b[37m\u001b[0m \u001b[1m3s\u001b[0m 3s/step - accuracy: 1.0000 - loss: 0.0000e+00\n",
      "Epoch 8/60\n",
      "\u001b[1m1/1\u001b[0m \u001b[32m━━━━━━━━━━━━━━━━━━━━\u001b[0m\u001b[37m\u001b[0m \u001b[1m3s\u001b[0m 3s/step - accuracy: 1.0000 - loss: 0.0000e+00\n",
      "Epoch 9/60\n",
      "\u001b[1m1/1\u001b[0m \u001b[32m━━━━━━━━━━━━━━━━━━━━\u001b[0m\u001b[37m\u001b[0m \u001b[1m3s\u001b[0m 3s/step - accuracy: 1.0000 - loss: 0.0000e+00\n",
      "Epoch 10/60\n",
      "\u001b[1m1/1\u001b[0m \u001b[32m━━━━━━━━━━━━━━━━━━━━\u001b[0m\u001b[37m\u001b[0m \u001b[1m2s\u001b[0m 2s/step - accuracy: 1.0000 - loss: 0.0000e+00\n",
      "Epoch 11/60\n",
      "\u001b[1m1/1\u001b[0m \u001b[32m━━━━━━━━━━━━━━━━━━━━\u001b[0m\u001b[37m\u001b[0m \u001b[1m3s\u001b[0m 3s/step - accuracy: 1.0000 - loss: 0.0000e+00\n",
      "Epoch 12/60\n",
      "\u001b[1m1/1\u001b[0m \u001b[32m━━━━━━━━━━━━━━━━━━━━\u001b[0m\u001b[37m\u001b[0m \u001b[1m3s\u001b[0m 3s/step - accuracy: 1.0000 - loss: 0.0000e+00\n",
      "Epoch 13/60\n",
      "\u001b[1m1/1\u001b[0m \u001b[32m━━━━━━━━━━━━━━━━━━━━\u001b[0m\u001b[37m\u001b[0m \u001b[1m3s\u001b[0m 3s/step - accuracy: 1.0000 - loss: 0.0000e+00\n",
      "Epoch 14/60\n",
      "\u001b[1m1/1\u001b[0m \u001b[32m━━━━━━━━━━━━━━━━━━━━\u001b[0m\u001b[37m\u001b[0m \u001b[1m3s\u001b[0m 3s/step - accuracy: 1.0000 - loss: 0.0000e+00\n",
      "Epoch 15/60\n",
      "\u001b[1m1/1\u001b[0m \u001b[32m━━━━━━━━━━━━━━━━━━━━\u001b[0m\u001b[37m\u001b[0m \u001b[1m3s\u001b[0m 3s/step - accuracy: 1.0000 - loss: 0.0000e+00\n",
      "Epoch 16/60\n",
      "\u001b[1m1/1\u001b[0m \u001b[32m━━━━━━━━━━━━━━━━━━━━\u001b[0m\u001b[37m\u001b[0m \u001b[1m3s\u001b[0m 3s/step - accuracy: 1.0000 - loss: 0.0000e+00\n",
      "Epoch 17/60\n",
      "\u001b[1m1/1\u001b[0m \u001b[32m━━━━━━━━━━━━━━━━━━━━\u001b[0m\u001b[37m\u001b[0m \u001b[1m3s\u001b[0m 3s/step - accuracy: 1.0000 - loss: 0.0000e+00\n",
      "Epoch 18/60\n",
      "\u001b[1m1/1\u001b[0m \u001b[32m━━━━━━━━━━━━━━━━━━━━\u001b[0m\u001b[37m\u001b[0m \u001b[1m3s\u001b[0m 3s/step - accuracy: 1.0000 - loss: 0.0000e+00\n",
      "Epoch 19/60\n",
      "\u001b[1m1/1\u001b[0m \u001b[32m━━━━━━━━━━━━━━━━━━━━\u001b[0m\u001b[37m\u001b[0m \u001b[1m3s\u001b[0m 3s/step - accuracy: 1.0000 - loss: 0.0000e+00\n",
      "Epoch 20/60\n",
      "\u001b[1m1/1\u001b[0m \u001b[32m━━━━━━━━━━━━━━━━━━━━\u001b[0m\u001b[37m\u001b[0m \u001b[1m3s\u001b[0m 3s/step - accuracy: 1.0000 - loss: 0.0000e+00\n",
      "Epoch 21/60\n",
      "\u001b[1m1/1\u001b[0m \u001b[32m━━━━━━━━━━━━━━━━━━━━\u001b[0m\u001b[37m\u001b[0m \u001b[1m3s\u001b[0m 3s/step - accuracy: 1.0000 - loss: 0.0000e+00\n",
      "Epoch 22/60\n",
      "\u001b[1m1/1\u001b[0m \u001b[32m━━━━━━━━━━━━━━━━━━━━\u001b[0m\u001b[37m\u001b[0m \u001b[1m3s\u001b[0m 3s/step - accuracy: 1.0000 - loss: 0.0000e+00\n",
      "Epoch 23/60\n",
      "\u001b[1m1/1\u001b[0m \u001b[32m━━━━━━━━━━━━━━━━━━━━\u001b[0m\u001b[37m\u001b[0m \u001b[1m3s\u001b[0m 3s/step - accuracy: 1.0000 - loss: 0.0000e+00\n",
      "Epoch 24/60\n",
      "\u001b[1m1/1\u001b[0m \u001b[32m━━━━━━━━━━━━━━━━━━━━\u001b[0m\u001b[37m\u001b[0m \u001b[1m3s\u001b[0m 3s/step - accuracy: 1.0000 - loss: 0.0000e+00\n",
      "Epoch 25/60\n",
      "\u001b[1m1/1\u001b[0m \u001b[32m━━━━━━━━━━━━━━━━━━━━\u001b[0m\u001b[37m\u001b[0m \u001b[1m3s\u001b[0m 3s/step - accuracy: 1.0000 - loss: 0.0000e+00\n",
      "Epoch 26/60\n",
      "\u001b[1m1/1\u001b[0m \u001b[32m━━━━━━━━━━━━━━━━━━━━\u001b[0m\u001b[37m\u001b[0m \u001b[1m3s\u001b[0m 3s/step - accuracy: 1.0000 - loss: 0.0000e+00\n",
      "Epoch 27/60\n",
      "\u001b[1m1/1\u001b[0m \u001b[32m━━━━━━━━━━━━━━━━━━━━\u001b[0m\u001b[37m\u001b[0m \u001b[1m3s\u001b[0m 3s/step - accuracy: 1.0000 - loss: 0.0000e+00\n",
      "Epoch 28/60\n",
      "\u001b[1m1/1\u001b[0m \u001b[32m━━━━━━━━━━━━━━━━━━━━\u001b[0m\u001b[37m\u001b[0m \u001b[1m3s\u001b[0m 3s/step - accuracy: 1.0000 - loss: 0.0000e+00\n",
      "Epoch 29/60\n",
      "\u001b[1m1/1\u001b[0m \u001b[32m━━━━━━━━━━━━━━━━━━━━\u001b[0m\u001b[37m\u001b[0m \u001b[1m3s\u001b[0m 3s/step - accuracy: 1.0000 - loss: 0.0000e+00\n",
      "Epoch 30/60\n",
      "\u001b[1m1/1\u001b[0m \u001b[32m━━━━━━━━━━━━━━━━━━━━\u001b[0m\u001b[37m\u001b[0m \u001b[1m3s\u001b[0m 3s/step - accuracy: 1.0000 - loss: 0.0000e+00\n",
      "Epoch 31/60\n",
      "\u001b[1m1/1\u001b[0m \u001b[32m━━━━━━━━━━━━━━━━━━━━\u001b[0m\u001b[37m\u001b[0m \u001b[1m3s\u001b[0m 3s/step - accuracy: 1.0000 - loss: 0.0000e+00\n",
      "Epoch 32/60\n",
      "\u001b[1m1/1\u001b[0m \u001b[32m━━━━━━━━━━━━━━━━━━━━\u001b[0m\u001b[37m\u001b[0m \u001b[1m2s\u001b[0m 2s/step - accuracy: 1.0000 - loss: 0.0000e+00\n",
      "Epoch 33/60\n",
      "\u001b[1m1/1\u001b[0m \u001b[32m━━━━━━━━━━━━━━━━━━━━\u001b[0m\u001b[37m\u001b[0m \u001b[1m3s\u001b[0m 3s/step - accuracy: 1.0000 - loss: 0.0000e+00\n",
      "Epoch 34/60\n",
      "\u001b[1m1/1\u001b[0m \u001b[32m━━━━━━━━━━━━━━━━━━━━\u001b[0m\u001b[37m\u001b[0m \u001b[1m3s\u001b[0m 3s/step - accuracy: 1.0000 - loss: 0.0000e+00\n",
      "Epoch 35/60\n",
      "\u001b[1m1/1\u001b[0m \u001b[32m━━━━━━━━━━━━━━━━━━━━\u001b[0m\u001b[37m\u001b[0m \u001b[1m3s\u001b[0m 3s/step - accuracy: 1.0000 - loss: 0.0000e+00\n",
      "Epoch 36/60\n",
      "\u001b[1m1/1\u001b[0m \u001b[32m━━━━━━━━━━━━━━━━━━━━\u001b[0m\u001b[37m\u001b[0m \u001b[1m2s\u001b[0m 2s/step - accuracy: 1.0000 - loss: 0.0000e+00\n",
      "Epoch 37/60\n",
      "\u001b[1m1/1\u001b[0m \u001b[32m━━━━━━━━━━━━━━━━━━━━\u001b[0m\u001b[37m\u001b[0m \u001b[1m3s\u001b[0m 3s/step - accuracy: 1.0000 - loss: 0.0000e+00\n",
      "Epoch 38/60\n",
      "\u001b[1m1/1\u001b[0m \u001b[32m━━━━━━━━━━━━━━━━━━━━\u001b[0m\u001b[37m\u001b[0m \u001b[1m3s\u001b[0m 3s/step - accuracy: 1.0000 - loss: 0.0000e+00\n",
      "Epoch 39/60\n",
      "\u001b[1m1/1\u001b[0m \u001b[32m━━━━━━━━━━━━━━━━━━━━\u001b[0m\u001b[37m\u001b[0m \u001b[1m2s\u001b[0m 2s/step - accuracy: 1.0000 - loss: 0.0000e+00\n",
      "Epoch 40/60\n",
      "\u001b[1m1/1\u001b[0m \u001b[32m━━━━━━━━━━━━━━━━━━━━\u001b[0m\u001b[37m\u001b[0m \u001b[1m2s\u001b[0m 2s/step - accuracy: 1.0000 - loss: 0.0000e+00\n",
      "Epoch 41/60\n",
      "\u001b[1m1/1\u001b[0m \u001b[32m━━━━━━━━━━━━━━━━━━━━\u001b[0m\u001b[37m\u001b[0m \u001b[1m3s\u001b[0m 3s/step - accuracy: 1.0000 - loss: 0.0000e+00\n",
      "Epoch 42/60\n",
      "\u001b[1m1/1\u001b[0m \u001b[32m━━━━━━━━━━━━━━━━━━━━\u001b[0m\u001b[37m\u001b[0m \u001b[1m3s\u001b[0m 3s/step - accuracy: 1.0000 - loss: 0.0000e+00\n",
      "Epoch 43/60\n",
      "\u001b[1m1/1\u001b[0m \u001b[32m━━━━━━━━━━━━━━━━━━━━\u001b[0m\u001b[37m\u001b[0m \u001b[1m2s\u001b[0m 2s/step - accuracy: 1.0000 - loss: 0.0000e+00\n",
      "Epoch 44/60\n",
      "\u001b[1m1/1\u001b[0m \u001b[32m━━━━━━━━━━━━━━━━━━━━\u001b[0m\u001b[37m\u001b[0m \u001b[1m2s\u001b[0m 2s/step - accuracy: 1.0000 - loss: 0.0000e+00\n",
      "Epoch 45/60\n",
      "\u001b[1m1/1\u001b[0m \u001b[32m━━━━━━━━━━━━━━━━━━━━\u001b[0m\u001b[37m\u001b[0m \u001b[1m3s\u001b[0m 3s/step - accuracy: 1.0000 - loss: 0.0000e+00\n",
      "Epoch 46/60\n",
      "\u001b[1m1/1\u001b[0m \u001b[32m━━━━━━━━━━━━━━━━━━━━\u001b[0m\u001b[37m\u001b[0m \u001b[1m2s\u001b[0m 2s/step - accuracy: 1.0000 - loss: 0.0000e+00\n",
      "Epoch 47/60\n",
      "\u001b[1m1/1\u001b[0m \u001b[32m━━━━━━━━━━━━━━━━━━━━\u001b[0m\u001b[37m\u001b[0m \u001b[1m3s\u001b[0m 3s/step - accuracy: 1.0000 - loss: 0.0000e+00\n",
      "Epoch 48/60\n",
      "\u001b[1m1/1\u001b[0m \u001b[32m━━━━━━━━━━━━━━━━━━━━\u001b[0m\u001b[37m\u001b[0m \u001b[1m3s\u001b[0m 3s/step - accuracy: 1.0000 - loss: 0.0000e+00\n",
      "Epoch 49/60\n",
      "\u001b[1m1/1\u001b[0m \u001b[32m━━━━━━━━━━━━━━━━━━━━\u001b[0m\u001b[37m\u001b[0m \u001b[1m3s\u001b[0m 3s/step - accuracy: 1.0000 - loss: 0.0000e+00\n",
      "Epoch 50/60\n",
      "\u001b[1m1/1\u001b[0m \u001b[32m━━━━━━━━━━━━━━━━━━━━\u001b[0m\u001b[37m\u001b[0m \u001b[1m3s\u001b[0m 3s/step - accuracy: 1.0000 - loss: 0.0000e+00\n",
      "Epoch 51/60\n",
      "\u001b[1m1/1\u001b[0m \u001b[32m━━━━━━━━━━━━━━━━━━━━\u001b[0m\u001b[37m\u001b[0m \u001b[1m3s\u001b[0m 3s/step - accuracy: 1.0000 - loss: 0.0000e+00\n",
      "Epoch 52/60\n",
      "\u001b[1m1/1\u001b[0m \u001b[32m━━━━━━━━━━━━━━━━━━━━\u001b[0m\u001b[37m\u001b[0m \u001b[1m3s\u001b[0m 3s/step - accuracy: 1.0000 - loss: 0.0000e+00\n",
      "Epoch 53/60\n",
      "\u001b[1m1/1\u001b[0m \u001b[32m━━━━━━━━━━━━━━━━━━━━\u001b[0m\u001b[37m\u001b[0m \u001b[1m3s\u001b[0m 3s/step - accuracy: 1.0000 - loss: 0.0000e+00\n",
      "Epoch 54/60\n",
      "\u001b[1m1/1\u001b[0m \u001b[32m━━━━━━━━━━━━━━━━━━━━\u001b[0m\u001b[37m\u001b[0m \u001b[1m3s\u001b[0m 3s/step - accuracy: 1.0000 - loss: 0.0000e+00\n",
      "Epoch 55/60\n",
      "\u001b[1m1/1\u001b[0m \u001b[32m━━━━━━━━━━━━━━━━━━━━\u001b[0m\u001b[37m\u001b[0m \u001b[1m3s\u001b[0m 3s/step - accuracy: 1.0000 - loss: 0.0000e+00\n",
      "Epoch 56/60\n",
      "\u001b[1m1/1\u001b[0m \u001b[32m━━━━━━━━━━━━━━━━━━━━\u001b[0m\u001b[37m\u001b[0m \u001b[1m3s\u001b[0m 3s/step - accuracy: 1.0000 - loss: 0.0000e+00\n",
      "Epoch 57/60\n",
      "\u001b[1m1/1\u001b[0m \u001b[32m━━━━━━━━━━━━━━━━━━━━\u001b[0m\u001b[37m\u001b[0m \u001b[1m3s\u001b[0m 3s/step - accuracy: 1.0000 - loss: 0.0000e+00\n",
      "Epoch 58/60\n",
      "\u001b[1m1/1\u001b[0m \u001b[32m━━━━━━━━━━━━━━━━━━━━\u001b[0m\u001b[37m\u001b[0m \u001b[1m3s\u001b[0m 3s/step - accuracy: 1.0000 - loss: 0.0000e+00\n",
      "Epoch 59/60\n",
      "\u001b[1m1/1\u001b[0m \u001b[32m━━━━━━━━━━━━━━━━━━━━\u001b[0m\u001b[37m\u001b[0m \u001b[1m3s\u001b[0m 3s/step - accuracy: 1.0000 - loss: 0.0000e+00\n",
      "Epoch 60/60\n",
      "\u001b[1m1/1\u001b[0m \u001b[32m━━━━━━━━━━━━━━━━━━━━\u001b[0m\u001b[37m\u001b[0m \u001b[1m3s\u001b[0m 3s/step - accuracy: 1.0000 - loss: 0.0000e+00\n",
      "\u001b[1m1/1\u001b[0m \u001b[32m━━━━━━━━━━━━━━━━━━━━\u001b[0m\u001b[37m\u001b[0m \u001b[1m2s\u001b[0m 2s/step\n",
      "Accuracy: 100.0%\n"
     ]
    }
   ],
   "source": [
    "from tensorflow.keras.applications import VGG16\n",
    "\n",
    "# Images should be in specified input shape for pre-trained model\n",
    "pt_input_shape = {'height': 224, 'width': 224, 'channels': 3}\n",
    "pt_images = images_to_array(read_images(image_names, height=pt_input_shape['height'], width=pt_input_shape['width']))\n",
    "\n",
    "# Load pre-configured and pre-trained CNN without top layer\n",
    "base_model = VGG16(weights='imagenet', include_top=False, input_shape=tuple(pt_input_shape.values()))\n",
    "# Mark loaded layers as not trainable (freeze layers)\n",
    "for layer in base_model.layers:\n",
    "    layer.trainable = False\n",
    "\n",
    "# Place new top layer on base model\n",
    "output = Flatten()(base_model.layers[-1].output)\n",
    "output = Dense(units=1024, activation='relu')(output)\n",
    "output = Dense(units=y.shape[-1], activation='softmax')(output)\n",
    "\n",
    "# Define the entire new model\n",
    "pt_cnn = Model(inputs=base_model.inputs, outputs=output)\n",
    "\n",
    "# Train the new model\n",
    "epochs = 60\n",
    "batch_size = 32\n",
    "pt_cnn.compile(optimizer=tf.keras.optimizers.Adam(learning_rate=0.001), loss='categorical_crossentropy', metrics=['accuracy'])\n",
    "pt_history = pt_cnn.fit(x=pt_images, y=y, epochs=epochs, batch_size=batch_size)\n",
    "\n",
    "# Predict on the model\n",
    "yhat = pt_cnn.predict(pt_images)\n",
    "yhat = np.argmax(yhat, axis=1)\n",
    "yhat = np.asarray(categories)[yhat]\n",
    "print(f'Accuracy: {round(accuracy(labels, yhat) * 100, 2)}%')"
   ]
  },
  {
   "cell_type": "code",
   "execution_count": 48,
   "metadata": {},
   "outputs": [
    {
     "name": "stdout",
     "output_type": "stream",
     "text": [
      "Epoch 1/60\n",
      "1/1 [==============================] - 6s 6s/step - loss: 2.2908 - accuracy: 0.3333\n",
      "Epoch 2/60\n",
      "1/1 [==============================] - 1s 1s/step - loss: 14.0079 - accuracy: 0.6667\n",
      "Epoch 3/60\n",
      "1/1 [==============================] - 2s 2s/step - loss: 0.0000e+00 - accuracy: 1.0000\n",
      "Epoch 4/60\n",
      "1/1 [==============================] - 2s 2s/step - loss: 0.0000e+00 - accuracy: 1.0000\n",
      "Epoch 5/60\n",
      "1/1 [==============================] - 2s 2s/step - loss: 0.0000e+00 - accuracy: 1.0000\n",
      "Epoch 6/60\n",
      "1/1 [==============================] - 2s 2s/step - loss: 0.0000e+00 - accuracy: 1.0000\n",
      "Epoch 7/60\n",
      "1/1 [==============================] - 2s 2s/step - loss: 0.0000e+00 - accuracy: 1.0000\n",
      "Epoch 8/60\n",
      "1/1 [==============================] - 1s 1s/step - loss: 0.0000e+00 - accuracy: 1.0000\n",
      "Epoch 9/60\n",
      "1/1 [==============================] - 1s 1s/step - loss: 0.0000e+00 - accuracy: 1.0000\n",
      "Epoch 10/60\n",
      "1/1 [==============================] - 2s 2s/step - loss: 0.0000e+00 - accuracy: 1.0000\n",
      "Epoch 11/60\n",
      "1/1 [==============================] - 2s 2s/step - loss: 0.0000e+00 - accuracy: 1.0000\n",
      "Epoch 12/60\n",
      "1/1 [==============================] - 2s 2s/step - loss: 0.0000e+00 - accuracy: 1.0000\n",
      "Epoch 13/60\n",
      "1/1 [==============================] - 2s 2s/step - loss: 0.0000e+00 - accuracy: 1.0000\n",
      "Epoch 14/60\n",
      "1/1 [==============================] - 2s 2s/step - loss: 0.0000e+00 - accuracy: 1.0000\n",
      "Epoch 15/60\n",
      "1/1 [==============================] - 2s 2s/step - loss: 0.0000e+00 - accuracy: 1.0000\n",
      "Epoch 16/60\n",
      "1/1 [==============================] - 2s 2s/step - loss: 0.0000e+00 - accuracy: 1.0000\n",
      "Epoch 17/60\n",
      "1/1 [==============================] - 2s 2s/step - loss: 0.0000e+00 - accuracy: 1.0000\n",
      "Epoch 18/60\n",
      "1/1 [==============================] - 2s 2s/step - loss: 0.0000e+00 - accuracy: 1.0000\n",
      "Epoch 19/60\n",
      "1/1 [==============================] - 2s 2s/step - loss: 0.0000e+00 - accuracy: 1.0000\n",
      "Epoch 20/60\n",
      "1/1 [==============================] - 2s 2s/step - loss: 0.0000e+00 - accuracy: 1.0000\n",
      "Epoch 21/60\n",
      "1/1 [==============================] - 2s 2s/step - loss: 0.0000e+00 - accuracy: 1.0000\n",
      "Epoch 22/60\n",
      "1/1 [==============================] - 2s 2s/step - loss: 0.0000e+00 - accuracy: 1.0000\n",
      "Epoch 23/60\n",
      "1/1 [==============================] - 2s 2s/step - loss: 0.0000e+00 - accuracy: 1.0000\n",
      "Epoch 24/60\n",
      "1/1 [==============================] - 2s 2s/step - loss: 0.0000e+00 - accuracy: 1.0000\n",
      "Epoch 25/60\n",
      "1/1 [==============================] - 2s 2s/step - loss: 0.0000e+00 - accuracy: 1.0000\n",
      "Epoch 26/60\n",
      "1/1 [==============================] - 1s 1s/step - loss: 0.0000e+00 - accuracy: 1.0000\n",
      "Epoch 27/60\n",
      "1/1 [==============================] - 1s 1s/step - loss: 0.0000e+00 - accuracy: 1.0000\n",
      "Epoch 28/60\n",
      "1/1 [==============================] - 1s 1s/step - loss: 0.0000e+00 - accuracy: 1.0000\n",
      "Epoch 29/60\n",
      "1/1 [==============================] - 2s 2s/step - loss: 0.0000e+00 - accuracy: 1.0000\n",
      "Epoch 30/60\n",
      "1/1 [==============================] - 2s 2s/step - loss: 0.0000e+00 - accuracy: 1.0000\n",
      "Epoch 31/60\n",
      "1/1 [==============================] - 2s 2s/step - loss: 0.0000e+00 - accuracy: 1.0000\n",
      "Epoch 32/60\n",
      "1/1 [==============================] - 1s 1s/step - loss: 0.0000e+00 - accuracy: 1.0000\n",
      "Epoch 33/60\n",
      "1/1 [==============================] - 1s 1s/step - loss: 0.0000e+00 - accuracy: 1.0000\n",
      "Epoch 34/60\n",
      "1/1 [==============================] - 2s 2s/step - loss: 0.0000e+00 - accuracy: 1.0000\n",
      "Epoch 35/60\n",
      "1/1 [==============================] - 1s 1s/step - loss: 0.0000e+00 - accuracy: 1.0000\n",
      "Epoch 36/60\n",
      "1/1 [==============================] - 2s 2s/step - loss: 0.0000e+00 - accuracy: 1.0000\n",
      "Epoch 37/60\n",
      "1/1 [==============================] - 2s 2s/step - loss: 0.0000e+00 - accuracy: 1.0000\n",
      "Epoch 38/60\n",
      "1/1 [==============================] - 2s 2s/step - loss: 0.0000e+00 - accuracy: 1.0000\n",
      "Epoch 39/60\n",
      "1/1 [==============================] - 2s 2s/step - loss: 0.0000e+00 - accuracy: 1.0000\n",
      "Epoch 40/60\n",
      "1/1 [==============================] - 1s 1s/step - loss: 0.0000e+00 - accuracy: 1.0000\n",
      "Epoch 41/60\n",
      "1/1 [==============================] - 2s 2s/step - loss: 0.0000e+00 - accuracy: 1.0000\n",
      "Epoch 42/60\n",
      "1/1 [==============================] - 2s 2s/step - loss: 0.0000e+00 - accuracy: 1.0000\n",
      "Epoch 43/60\n",
      "1/1 [==============================] - 2s 2s/step - loss: 0.0000e+00 - accuracy: 1.0000\n",
      "Epoch 44/60\n",
      "1/1 [==============================] - 2s 2s/step - loss: 0.0000e+00 - accuracy: 1.0000\n",
      "Epoch 45/60\n",
      "1/1 [==============================] - 2s 2s/step - loss: 0.0000e+00 - accuracy: 1.0000\n",
      "Epoch 46/60\n",
      "1/1 [==============================] - 1s 1s/step - loss: 0.0000e+00 - accuracy: 1.0000\n",
      "Epoch 47/60\n",
      "1/1 [==============================] - 2s 2s/step - loss: 0.0000e+00 - accuracy: 1.0000\n",
      "Epoch 48/60\n",
      "1/1 [==============================] - 2s 2s/step - loss: 0.0000e+00 - accuracy: 1.0000\n",
      "Epoch 49/60\n",
      "1/1 [==============================] - 2s 2s/step - loss: 0.0000e+00 - accuracy: 1.0000\n",
      "Epoch 50/60\n",
      "1/1 [==============================] - 2s 2s/step - loss: 0.0000e+00 - accuracy: 1.0000\n",
      "Epoch 51/60\n",
      "1/1 [==============================] - 2s 2s/step - loss: 0.0000e+00 - accuracy: 1.0000\n",
      "Epoch 52/60\n",
      "1/1 [==============================] - 2s 2s/step - loss: 0.0000e+00 - accuracy: 1.0000\n",
      "Epoch 53/60\n",
      "1/1 [==============================] - 2s 2s/step - loss: 0.0000e+00 - accuracy: 1.0000\n",
      "Epoch 54/60\n",
      "1/1 [==============================] - 1s 1s/step - loss: 0.0000e+00 - accuracy: 1.0000\n",
      "Epoch 55/60\n",
      "1/1 [==============================] - 1s 1s/step - loss: 0.0000e+00 - accuracy: 1.0000\n",
      "Epoch 56/60\n",
      "1/1 [==============================] - 2s 2s/step - loss: 0.0000e+00 - accuracy: 1.0000\n",
      "Epoch 57/60\n",
      "1/1 [==============================] - 2s 2s/step - loss: 0.0000e+00 - accuracy: 1.0000\n",
      "Epoch 58/60\n",
      "1/1 [==============================] - 2s 2s/step - loss: 0.0000e+00 - accuracy: 1.0000\n",
      "Epoch 59/60\n",
      "1/1 [==============================] - 1s 1s/step - loss: 0.0000e+00 - accuracy: 1.0000\n",
      "Epoch 60/60\n",
      "1/1 [==============================] - 1s 1s/step - loss: 0.0000e+00 - accuracy: 1.0000\n",
      "1/1 [==============================] - 2s 2s/step\n",
      "Accuracy: 100.0%\n"
     ]
    }
   ],
   "source": [
    "# Alternative way\n",
    "pt_cnn = tf.keras.Sequential()\n",
    "\n",
    "base_model = tf.keras.applications.ResNet50(weights='imagenet', include_top=False, input_shape=tuple(pt_input_shape.values()), classes=y.shape[-1])\n",
    "for layer in base_model.layers:\n",
    "    layer.trainable = False\n",
    "\n",
    "pt_cnn.add(base_model)\n",
    "pt_cnn.add(Flatten())\n",
    "pt_cnn.add(Dense(units = 1024, activation='relu'))\n",
    "pt_cnn.add(Dense(units = y.shape[-1], activation='softmax'))\n",
    "\n",
    "epochs = 60\n",
    "batch_size = 32\n",
    "pt_cnn.compile(optimizer=tf.keras.optimizers.Adam(learning_rate=0.001), loss='categorical_crossentropy', metrics=['accuracy'])\n",
    "pt_history = pt_cnn.fit(x=pt_images, y=y, epochs=epochs, batch_size=batch_size)\n",
    "\n",
    "# Predict on the model\n",
    "yhat = pt_cnn.predict(pt_images)\n",
    "yhat = np.argmax(yhat, axis=1)\n",
    "yhat = np.asarray(categories)[yhat]\n",
    "print(f'Accuracy: {round(accuracy(labels, yhat) * 100, 2)}%')"
   ]
  },
  {
   "cell_type": "code",
   "execution_count": 11,
   "metadata": {},
   "outputs": [
    {
     "data": {
      "image/png": "[encoded data removed]",
      "text/plain": [
       "<Figure size 640x480 with 1 Axes>"
      ]
     },
     "metadata": {},
     "output_type": "display_data"
    }
   ],
   "source": [
    "plt.plot(pt_history.history['accuracy'])\n",
    "plt.axis(ymin=0.3, ymax = 1)\n",
    "plt.grid()\n",
    "plt.title('Model accuracy')\n",
    "plt.ylabel('Accuarcy')\n",
    "plt.xlabel('Epochs')\n",
    "plt.legend(['train'])\n",
    "plt.show()"
   ]
  },
  {
   "cell_type": "code",
   "execution_count": 12,
   "metadata": {},
   "outputs": [
    {
     "name": "stdout",
     "output_type": "stream",
     "text": [
      "Accuracy: 1.0, Precision: [1. 1. 1.], Recall: [1. 1. 1.], F1-Score: [1. 1. 1.]\n"
     ]
    }
   ],
   "source": [
    "# Other metrics\n",
    "from sklearn.metrics import accuracy_score, precision_score, recall_score, f1_score\n",
    "\n",
    "acc = accuracy_score(labels, yhat)\n",
    "pre = precision_score(labels, yhat, average=None)\n",
    "rec = recall_score(labels, yhat, average=None)\n",
    "f1 = f1_score(labels, yhat, average=None)\n",
    "print(f'Accuracy: {acc}, Precision: {pre}, Recall: {rec}, F1-Score: {f1}')"
   ]
  }
 ],
 "metadata": {
  "kernelspec": {
   "display_name": "AI",
   "language": "python",
   "name": "python3"
  },
  "language_info": {
   "codemirror_mode": {
    "name": "ipython",
    "version": 3
   },
   "file_extension": ".py",
   "mimetype": "text/x-python",
   "name": "python",
   "nbconvert_exporter": "python",
   "pygments_lexer": "ipython3",
   "version": "3.12.5"
  },
  "orig_nbformat": 4
 },
 "nbformat": 4,
 "nbformat_minor": 2
}

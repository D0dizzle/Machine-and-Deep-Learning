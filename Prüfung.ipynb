{
 "cells": [
  {
   "cell_type": "markdown",
   "metadata": {},
   "source": [
    "## Title"
   ]
  },
  {
   "cell_type": "markdown",
   "metadata": {},
   "source": [
    "**Authors:** <br>\n",
    "Björn Hahn () <br>\n",
    "Domenico Ferraro ()<br>\n",
    "Justus Raabe (940919) <br>\n",
    "Lisa Sachau (941367)"
   ]
  },
  {
   "cell_type": "markdown",
   "metadata": {},
   "source": [
    "#### Imported Packages"
   ]
  },
  {
   "cell_type": "code",
   "execution_count": 1,
   "metadata": {},
   "outputs": [],
   "source": [
    "import os\n",
    "import numpy as np\n",
    "import pandas as pd\n",
    "from PIL import Image\n",
    "import matplotlib.pyplot as plt\n",
    "from sklearn.preprocessing import OneHotEncoder\n",
    "import tensorflow as tf\n",
    "from tensorflow.keras.models import Model\n",
    "from tensorflow.keras.layers import Input, Dense, Conv2D, MaxPooling2D, Dropout, Flatten\n",
    "import functions as func\n"
   ]
  },
  {
   "cell_type": "markdown",
   "metadata": {},
   "source": [
    "#### Load Data"
   ]
  },
  {
   "cell_type": "code",
   "execution_count": null,
   "metadata": {},
   "outputs": [],
   "source": [
    "# Get file names\n",
    "folder_e = './Fotos_einfach'\n",
    "folder_h = './Fotos_schwierig'\n",
    "#image_names, categories = read_image_names(filepath)\n",
    "categories_e, image_names_e, labels_e = func.get_filenames_labels(folder_e)\n",
    "categories_h, image_names_h, labels_h = func.get_filenames_labels(folder_h)\n",
    "print(image_names_e)\n",
    "print(labels_e)\n",
    "print(categories_e)\n",
    "print(image_names_h)\n",
    "print(labels_h)\n",
    "print(categories_h)\n",
    "# Load images\n",
    "input_shape = {\n",
    "    \"height\": 200,\n",
    "    \"width\": 200,\n",
    "    \"channels\": 3\n",
    "}\n",
    "images_e = func.read_images(image_names_e, height=input_shape[\"height\"], width=input_shape[\"width\"])\n",
    "images_h = func.read_images(image_names_h, height=input_shape[\"height\"], width=input_shape[\"width\"])\n",
    "# Convert images to array\n",
    "aimages_e = func.images_to_array(images_e)\n",
    "aimages_h = func.images_to_array(images_h)\n",
    "print(f'Shape of images array: {aimages_e.shape}')\n",
    "# Plot images array\n",
    "fig = plt.figure(figsize=(8, 8))\n",
    "rows, columns = 8, 10\n",
    "for i in range(aimages_h.shape[0]):\n",
    "    fig.add_subplot(rows, columns, i+1)\n",
    "    plt.imshow(aimages_h[i, ...])\n",
    "plt.show()\n"
   ]
  },
  {
   "cell_type": "markdown",
   "metadata": {},
   "source": [
    "#### Data Augmentation"
   ]
  },
  {
   "cell_type": "code",
   "execution_count": null,
   "metadata": {},
   "outputs": [],
   "source": [
    "def augment_images(images, labels):\n",
    "    aug_images = []\n",
    "    aug_labels = []\n",
    "    for i, row in enumerate(images):\n",
    "        # Original\n",
    "        aug_images.append(images[i])\n",
    "        aug_labels.append(labels[i])\n",
    "        \n",
    "        # 90-degree rotation (to the right)\n",
    "        aug_images.append(np.rot90(row, k=1))\n",
    "        aug_labels.append(labels[i])\n",
    "        \n",
    "        # 180-degree rotation (upside down)\n",
    "        aug_images.append(np.rot90(row, k=2))\n",
    "        aug_labels.append(labels[i])\n",
    "        \n",
    "        # 270-degree rotation (to the left)\n",
    "        aug_images.append(np.rot90(row, k=3))\n",
    "        aug_labels.append(labels[i])\n",
    "    \n",
    "    return aug_images, aug_labels\n",
    "\n",
    "# Apply augmentation to easy images\n",
    "a_images_e, a_labels_e = augment_images(aimages_e, labels_e)\n",
    "aug_images_e = func.images_to_array(a_images_e)\n",
    "aug_labels_e = func.images_to_array(a_labels_e)\n",
    "\n",
    "# Apply augmentation to difficult images\n",
    "a_images_h, a_labels_h = augment_images(aimages_h, labels_h)\n",
    "aug_images_h = func.images_to_array(a_images_h)\n",
    "aug_labels_h = func.images_to_array(a_labels_h)\n",
    "\n",
    "# Visualize the augmented images with dynamic grid\n",
    "total_images = aug_images_h.shape[0]\n",
    "columns = 10\n",
    "rows = int(np.ceil(total_images / columns))  # Dynamically calculate the number of rows\n",
    "\n",
    "fig = plt.figure(figsize=(8, 8))\n",
    "for i in range(total_images):\n",
    "    fig.add_subplot(rows, columns, i+1)\n",
    "    plt.imshow(aug_images_h[i, ...])\n",
    "    plt.axis('off')  # Hide axes\n",
    "plt.tight_layout()\n",
    "plt.show()\n",
    "\n",
    "# Print augmented labels and shape\n",
    "print(aug_labels_h)\n",
    "print(aug_labels_h.shape)\n",
    "print(categories_h)\n"
   ]
  },
  {
   "cell_type": "markdown",
   "metadata": {},
   "source": [
    "Encode Labels"
   ]
  },
  {
   "cell_type": "code",
   "execution_count": null,
   "metadata": {},
   "outputs": [],
   "source": [
    "y_e = func.ownOneHotEncoder(aug_labels_e, categories_e)\n",
    "y_h = func.ownOneHotEncoder(aug_labels_h, categories_h)"
   ]
  },
  {
   "cell_type": "markdown",
   "metadata": {},
   "source": [
    "Training and Test-Split with K-Fold (vielleicht K-Fold auch später, unsicher bei Reihenfolge tbh)"
   ]
  },
  {
   "cell_type": "code",
   "execution_count": null,
   "metadata": {},
   "outputs": [],
   "source": [
    "data_e = aug_images_e\n",
    "data_h = aug_images_h\n",
    "k = 6\n",
    "image_folds_e, y_folds_e = func.stratified_k_fold(data_e, y_e, k)\n",
    "image_folds_h, y_folds_h = func.stratified_k_fold(data_h, y_h, k)\n",
    "fig = plt.figure(figsize=(2, 1))\n",
    "plt.imshow(image_folds_e[3][2])\n",
    "plt.imshow(image_folds_h[3][2])\n",
    "plt.show()\n",
    "print(y_folds_e[3][2])\n",
    "print(y_folds_h[3][2])"
   ]
  },
  {
   "cell_type": "markdown",
   "metadata": {},
   "source": [
    "#### Build Model"
   ]
  },
  {
   "cell_type": "markdown",
   "metadata": {},
   "source": [
    "easy difficulty"
   ]
  },
  {
   "cell_type": "code",
   "execution_count": null,
   "metadata": {},
   "outputs": [],
   "source": [
    "epoch = 100\n",
    "eval_accuracy_e = []\n",
    "accuracy_e = []\n",
    "z = list(range(k)) \n",
    "for i in range(k):\n",
    "    test_fold_index = z[k-1] if k % 2 == 0 else z[k-2]\n",
    "    if test_fold_index == i:\n",
    "        continue\n",
    "    fold_x_train = np.concatenate([image_folds_e[j] for j in range(k) if j != i and j != test_fold_index], axis=0)\n",
    "    fold_y_train = np.concatenate([y_folds_e[j] for j in range(k) if j != i and j != test_fold_index], axis=0)\n",
    "    fold_x_val = image_folds_e[i]\n",
    "    fold_y_val = y_folds_e[i]\n",
    "    fold_x_test = image_folds_e[test_fold_index]\n",
    "    fold_y_test = y_folds_e[test_fold_index]\n",
    "    model, model_accuracy = func.build_model(epoch, fold_x_train, fold_y_train, fold_x_val, fold_y_val, fold_x_test, fold_y_test, input_shape)\n",
    "    eval_accuracy_e.append(model_accuracy)\n",
    "    accuracy_e.append(max(model.history['accuracy']))\n",
    "    z = z[:-1] \n",
    "    z = [test_fold_index] + z\n",
    "    \n",
    "print(eval_accuracy_e)\n",
    "print(accuracy_e)"
   ]
  },
  {
   "cell_type": "markdown",
   "metadata": {},
   "source": [
    "Plotting of Accuracy and Loss"
   ]
  },
  {
   "cell_type": "code",
   "execution_count": null,
   "metadata": {},
   "outputs": [],
   "source": [
    "# noch zu überarbeiten\n",
    "\n",
    "plt.plot(range(1, k+1), accuracy_e)\n",
    "plt.plot(range(1, k+1), eval_accuracy_e)\n",
    "plt.title('Accuracy und Accuracy des Modells')\n",
    "plt.xlabel('Epochen')\n",
    "plt.gca().legend(('Accuracy', 'Accuracy des Modells'))\n",
    "plt.show()"
   ]
  },
  {
   "cell_type": "markdown",
   "metadata": {},
   "source": [
    "hard difficulty"
   ]
  },
  {
   "cell_type": "code",
   "execution_count": null,
   "metadata": {},
   "outputs": [],
   "source": [
    "epoch = 20\n",
    "eval_accuracy = []\n",
    "accuracy = []\n",
    "for i in range(k):\n",
    "    fold_x_train = np.concatenate([image_folds_h[j] for j in range(k) if j != i], axis=0)\n",
    "    fold_y_train = np.concatenate([y_folds_h[j] for j in range(k) if j != i], axis=0)\n",
    "    fold_x_val = image_folds_h[i]\n",
    "    fold_y_val = y_folds_h[i]\n",
    "    model, model_accuracy = func.build_model(epoch, fold_x_train, fold_y_train, fold_x_val, fold_y_val, input_shape, y_h)\n",
    "    eval_accuracy.append(model_accuracy)\n",
    "    accuracy.append(max(model.history['accuracy']))\n",
    "print(eval_accuracy)\n",
    "print(accuracy)"
   ]
  },
  {
   "cell_type": "markdown",
   "metadata": {},
   "source": [
    "Plotting of Accuracy and Loss for hard difficulty"
   ]
  },
  {
   "cell_type": "code",
   "execution_count": null,
   "metadata": {},
   "outputs": [],
   "source": [
    "#auch noch zu überarbeiten\n",
    "plt.plot(range(1, epoch+1), func.minmax(model.history['accuracy']))\n",
    "plt.plot(range(1, epoch+1), func.minmax(model.history['loss']))\n",
    "plt.title('Accuracy und Accuracy des Modells')\n",
    "plt.xlabel('Epochen')\n",
    "plt.gca().legend(('Accuracy', 'Accuracy des Modells'))\n",
    "plt.show()"
   ]
  },
  {
   "cell_type": "markdown",
   "metadata": {},
   "source": [
    "Prediction"
   ]
  },
  {
   "cell_type": "code",
   "execution_count": null,
   "metadata": {},
   "outputs": [],
   "source": [
    "#prediction here"
   ]
  }
 ],
 "metadata": {
  "kernelspec": {
   "display_name": "AIML",
   "language": "python",
   "name": "python3"
  },
  "language_info": {
   "codemirror_mode": {
    "name": "ipython",
    "version": 3
   },
   "file_extension": ".py",
   "mimetype": "text/x-python",
   "name": "python",
   "nbconvert_exporter": "python",
   "pygments_lexer": "ipython3",
   "version": "3.10.11"
  }
 },
 "nbformat": 4,
 "nbformat_minor": 2
}
